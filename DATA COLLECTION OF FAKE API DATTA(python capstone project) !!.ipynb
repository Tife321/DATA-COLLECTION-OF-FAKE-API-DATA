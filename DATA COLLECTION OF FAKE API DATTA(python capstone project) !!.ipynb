{
 "cells": [
  {
   "cell_type": "code",
   "execution_count": 1,
   "id": "5382c587",
   "metadata": {},
   "outputs": [
    {
     "name": "stdout",
     "output_type": "stream",
     "text": [
      "Requirement already satisfied: requests in c:\\users\\pc\\anaconda\\lib\\site-packages (2.31.0)\n",
      "Requirement already satisfied: charset-normalizer<4,>=2 in c:\\users\\pc\\anaconda\\lib\\site-packages (from requests) (2.0.4)\n",
      "Requirement already satisfied: idna<4,>=2.5 in c:\\users\\pc\\anaconda\\lib\\site-packages (from requests) (3.4)\n",
      "Requirement already satisfied: urllib3<3,>=1.21.1 in c:\\users\\pc\\anaconda\\lib\\site-packages (from requests) (1.26.16)\n",
      "Requirement already satisfied: certifi>=2017.4.17 in c:\\users\\pc\\anaconda\\lib\\site-packages (from requests) (2023.7.22)\n"
     ]
    }
   ],
   "source": [
    "import requests\n",
    "import sqlite3\n",
    "!pip install requests\n",
    "import pandas as pd"
   ]
  },
  {
   "cell_type": "code",
   "execution_count": 2,
   "id": "d4102185",
   "metadata": {},
   "outputs": [],
   "source": [
    "#define the api\n",
    "products_api = \"https://fakestoreapi.com/products\"\n",
    "carts_api = \"https://fakestoreapi.com/carts\"\n",
    "users_api = \"https://fakestoreapi.com/users\""
   ]
  },
  {
   "cell_type": "markdown",
   "id": "91a1e905",
   "metadata": {},
   "source": [
    "# fetching the data"
   ]
  },
  {
   "cell_type": "code",
   "execution_count": 3,
   "id": "e9ee7403",
   "metadata": {},
   "outputs": [],
   "source": [
    "# fetching product data\n",
    "products_api = \"https://fakestoreapi.com/products\"\n",
    "# making a get request\n",
    "products_response = requests.get(products_api)\n",
    "# verrify if successful\n",
    "if products_response.status_code==200:\n",
    "    products_data = products_response.json()# parse the json response\n",
    "else:\n",
    "    print(f\"failed to fetch data.status_code: {response.status_code}\")"
   ]
  },
  {
   "cell_type": "code",
   "execution_count": 4,
   "id": "003c0e6f",
   "metadata": {},
   "outputs": [
    {
     "name": "stdout",
     "output_type": "stream",
     "text": [
      "{'id': 1, 'title': 'Fjallraven - Foldsack No. 1 Backpack, Fits 15 Laptops', 'price': 109.95, 'description': 'Your perfect pack for everyday use and walks in the forest. Stash your laptop (up to 15 inches) in the padded sleeve, your everyday', 'category': \"men's clothing\", 'image': 'https://fakestoreapi.com/img/81fPKd-2AYL._AC_SL1500_.jpg', 'rating': {'rate': 3.9, 'count': 120}}\n"
     ]
    }
   ],
   "source": [
    "print(products_data[0])"
   ]
  },
  {
   "cell_type": "code",
   "execution_count": 5,
   "id": "1e83f4eb",
   "metadata": {},
   "outputs": [],
   "source": [
    "# fetching the carts data\n",
    "carts_api = \"https://fakestoreapi.com/carts\"\n",
    "# making a get request\n",
    "carts_response = requests.get(carts_api)\n",
    "# verify if successful\n",
    "if carts_response.status_code==200:\n",
    "    carts_data=carts_response.json()# parse the json response\n",
    "else:\n",
    "    print(f\"failed to fetch data.status_code: {response.status_code}\")"
   ]
  },
  {
   "cell_type": "code",
   "execution_count": 7,
   "id": "707dbac4",
   "metadata": {},
   "outputs": [],
   "source": [
    "# fetching the users data\n",
    "users_api = \"https://fakestoreapi.com/users\"\n",
    "# making a get request\n",
    "users_response = requests.get(users_api)\n",
    "# verify if successful\n",
    "if users_response.status_code==200:\n",
    "    users_data=users_response.json()# parse the json response\n",
    "else:\n",
    "    print(f\"failed to fetch data.status_code: {response.status_code}\")"
   ]
  },
  {
   "cell_type": "code",
   "execution_count": 6,
   "id": "1bde29db",
   "metadata": {},
   "outputs": [
    {
     "name": "stdout",
     "output_type": "stream",
     "text": [
      "{'id': 1, 'userId': 1, 'date': '2020-03-02T00:00:00.000Z', 'products': [{'productId': 1, 'quantity': 4}, {'productId': 2, 'quantity': 1}, {'productId': 3, 'quantity': 6}], '__v': 0}\n"
     ]
    }
   ],
   "source": [
    "print(carts_data[0])"
   ]
  },
  {
   "cell_type": "markdown",
   "id": "4b934aa1",
   "metadata": {},
   "source": [
    "# sqlitedatase"
   ]
  },
  {
   "cell_type": "code",
   "execution_count": 9,
   "id": "b66e1111",
   "metadata": {},
   "outputs": [],
   "source": [
    "conn=sqlite3.connect('fakestore.dbb')\n",
    "cursor=conn.cursor()"
   ]
  },
  {
   "cell_type": "code",
   "execution_count": 8,
   "id": "f0c43247",
   "metadata": {},
   "outputs": [
    {
     "name": "stdout",
     "output_type": "stream",
     "text": [
      "{'address': {'geolocation': {'lat': '-37.3159', 'long': '81.1496'}, 'city': 'kilcoole', 'street': 'new road', 'number': 7682, 'zipcode': '12926-3874'}, 'id': 1, 'email': 'john@gmail.com', 'username': 'johnd', 'password': 'm38rmF$', 'name': {'firstname': 'john', 'lastname': 'doe'}, 'phone': '1-570-236-7033', '__v': 0}\n"
     ]
    }
   ],
   "source": [
    "print(users_data[0])"
   ]
  },
  {
   "cell_type": "markdown",
   "id": "bde24a81",
   "metadata": {},
   "source": [
    "# create  table"
   ]
  },
  {
   "cell_type": "code",
   "execution_count": 10,
   "id": "77a2f1a3",
   "metadata": {},
   "outputs": [],
   "source": [
    "cursor.execute(\"\"\"DROP TABLE products;\"\"\")\n",
    "conn.commit()"
   ]
  },
  {
   "cell_type": "code",
   "execution_count": 11,
   "id": "25a2af05",
   "metadata": {},
   "outputs": [],
   "source": [
    "cursor.execute('''CREATE TABLE IF NOT EXISTS products (\n",
    "                    id INTERGER,\n",
    "                    title TEXT,\n",
    "                    price float,\n",
    "                    description TEXT,\n",
    "                    category VARCHAR(255),\n",
    "                    image VARCHAR(255),\n",
    "                    rating_rate float,\n",
    "                    rating_count INT);\n",
    "                ''')\n",
    "conn.commit()"
   ]
  },
  {
   "cell_type": "code",
   "execution_count": 12,
   "id": "f5f3ccdb",
   "metadata": {},
   "outputs": [],
   "source": [
    "cursor.execute('''CREATE TABLE IF NOT EXISTS carts (\n",
    "                    id INTERGER,\n",
    "                    userid INTERGER,\n",
    "                    date TEXT);\n",
    "                ''')\n",
    "conn.commit()"
   ]
  },
  {
   "cell_type": "code",
   "execution_count": 13,
   "id": "b4a6fab2",
   "metadata": {},
   "outputs": [],
   "source": [
    "cursor.execute('''CREATE TABLE IF NOT EXISTS cart_products (\n",
    "                    cartid INT,\n",
    "                    productId INT,\n",
    "                    quantity INT,\n",
    "                    FOREIGN KEY (cartId) REFERENCES carts (id))\n",
    "                ''')\n",
    "conn.commit()"
   ]
  },
  {
   "cell_type": "code",
   "execution_count": 14,
   "id": "dd2cf622",
   "metadata": {},
   "outputs": [],
   "source": [
    "cursor.execute(\"\"\"DROP TABLE users;\"\"\")\n",
    "conn.commit()"
   ]
  },
  {
   "cell_type": "code",
   "execution_count": 15,
   "id": "a02ebd16",
   "metadata": {},
   "outputs": [],
   "source": [
    "cursor.execute('''CREATE TABLE IF NOT EXISTS users (\n",
    "                   geolocation_lat TEXT,\n",
    "                   geolocation_long TEXT,\n",
    "                   city TEXT,\n",
    "                   street TEXT,\n",
    "                   number INT,\n",
    "                   zipcode TEXT,\n",
    "                   id INT,\n",
    "                   email TEXT,\n",
    "                   username TEXT,\n",
    "                   password TEXT,\n",
    "                   firstname TEXT,\n",
    "                   lastname TEXT,\n",
    "                   phone TEXT)\n",
    "                ''')\n",
    "conn.commit()"
   ]
  },
  {
   "cell_type": "markdown",
   "id": "b0c9dff9",
   "metadata": {},
   "source": [
    "# insert data"
   ]
  },
  {
   "cell_type": "code",
   "execution_count": 16,
   "id": "9f1010bd",
   "metadata": {},
   "outputs": [],
   "source": [
    "for data in products_data:\n",
    "    cursor.execute(f\"\"\"INSERT INTO products (id,title,price,description,category,image,rating_rate,rating_count)\n",
    "                       VALUES (?, ?, ?, ?, ?, ?, ?, ?);\n",
    "                       \"\"\", (data['id'],data['title'],data['price'],data['description'],data['category'],data['image'],data['rating']['rate'],data['rating']['count']))\n",
    "    conn.commit()"
   ]
  },
  {
   "cell_type": "code",
   "execution_count": 17,
   "id": "4312698b",
   "metadata": {},
   "outputs": [],
   "source": [
    "for cart in carts_data:\n",
    "    cursor.execute(\"\"\"INSERT OR IGNORE INTO carts (id, userId, date)\n",
    "                       VALUES (:id, :userId, :date)\n",
    "                       \"\"\", {'id': cart['id'],'userId':cart['userId'],'date':cart['date']})\n",
    "for product in cart['products']:\n",
    "    cursor.execute('''INSERT INTO cart_products (cartId, productId, quantity)\n",
    "                      VALUES(:cartId, :productId, :quantity)\n",
    "                   ''', {'cartId': cart['id'], 'productId':product['productId'],'quantity':product['quantity']})\n",
    "    conn.commit()\n",
    "   "
   ]
  },
  {
   "cell_type": "code",
   "execution_count": 19,
   "id": "093d9ff5",
   "metadata": {},
   "outputs": [],
   "source": [
    "for user in users_data:\n",
    "    cursor.execute(\"\"\"INSERT INTO users (geolocation_lat,geolocation_long,city,street,number,zipcode,id,email,username ,password,firstname,lastname,phone)\n",
    "                          VALUES(?, ?, ?, ?, ?, ?, ?, ?, ?, ?, ?, ?, ?)\n",
    "                          \"\"\", (user['address']['geolocation']['lat'],user['address']['geolocation']['long'],user['address']['city'],user['address']['street'],user['address']['number'],user['address']['zipcode'],user['id'],user['email'],user['username'],user['password'],user['name']['firstname'],user['name']['lastname'],user['phone']))\n",
    "    conn.commit()"
   ]
  },
  {
   "cell_type": "markdown",
   "id": "7e9834b8",
   "metadata": {},
   "source": [
    "# load into database"
   ]
  },
  {
   "cell_type": "code",
   "execution_count": null,
   "id": "c137e4de",
   "metadata": {},
   "outputs": [],
   "source": [
    "## connect to the sqlite database\n",
    "conn = sqlite3.connect('fakestore.dbb')"
   ]
  },
  {
   "cell_type": "code",
   "execution_count": 21,
   "id": "f5d8ac25",
   "metadata": {},
   "outputs": [
    {
     "data": {
      "text/html": [
       "<div>\n",
       "<style scoped>\n",
       "    .dataframe tbody tr th:only-of-type {\n",
       "        vertical-align: middle;\n",
       "    }\n",
       "\n",
       "    .dataframe tbody tr th {\n",
       "        vertical-align: top;\n",
       "    }\n",
       "\n",
       "    .dataframe thead th {\n",
       "        text-align: right;\n",
       "    }\n",
       "</style>\n",
       "<table border=\"1\" class=\"dataframe\">\n",
       "  <thead>\n",
       "    <tr style=\"text-align: right;\">\n",
       "      <th></th>\n",
       "      <th>id</th>\n",
       "      <th>title</th>\n",
       "      <th>price</th>\n",
       "      <th>description</th>\n",
       "      <th>category</th>\n",
       "      <th>image</th>\n",
       "      <th>rating_rate</th>\n",
       "      <th>rating_count</th>\n",
       "    </tr>\n",
       "  </thead>\n",
       "  <tbody>\n",
       "    <tr>\n",
       "      <th>0</th>\n",
       "      <td>1</td>\n",
       "      <td>Fjallraven - Foldsack No. 1 Backpack, Fits 15 ...</td>\n",
       "      <td>109.95</td>\n",
       "      <td>Your perfect pack for everyday use and walks i...</td>\n",
       "      <td>men's clothing</td>\n",
       "      <td>https://fakestoreapi.com/img/81fPKd-2AYL._AC_S...</td>\n",
       "      <td>3.9</td>\n",
       "      <td>120</td>\n",
       "    </tr>\n",
       "    <tr>\n",
       "      <th>1</th>\n",
       "      <td>2</td>\n",
       "      <td>Mens Casual Premium Slim Fit T-Shirts</td>\n",
       "      <td>22.30</td>\n",
       "      <td>Slim-fitting style, contrast raglan long sleev...</td>\n",
       "      <td>men's clothing</td>\n",
       "      <td>https://fakestoreapi.com/img/71-3HjGNDUL._AC_S...</td>\n",
       "      <td>4.1</td>\n",
       "      <td>259</td>\n",
       "    </tr>\n",
       "    <tr>\n",
       "      <th>2</th>\n",
       "      <td>3</td>\n",
       "      <td>Mens Cotton Jacket</td>\n",
       "      <td>55.99</td>\n",
       "      <td>great outerwear jackets for Spring/Autumn/Wint...</td>\n",
       "      <td>men's clothing</td>\n",
       "      <td>https://fakestoreapi.com/img/71li-ujtlUL._AC_U...</td>\n",
       "      <td>4.7</td>\n",
       "      <td>500</td>\n",
       "    </tr>\n",
       "    <tr>\n",
       "      <th>3</th>\n",
       "      <td>4</td>\n",
       "      <td>Mens Casual Slim Fit</td>\n",
       "      <td>15.99</td>\n",
       "      <td>The color could be slightly different between ...</td>\n",
       "      <td>men's clothing</td>\n",
       "      <td>https://fakestoreapi.com/img/71YXzeOuslL._AC_U...</td>\n",
       "      <td>2.1</td>\n",
       "      <td>430</td>\n",
       "    </tr>\n",
       "    <tr>\n",
       "      <th>4</th>\n",
       "      <td>5</td>\n",
       "      <td>John Hardy Women's Legends Naga Gold &amp; Silver ...</td>\n",
       "      <td>695.00</td>\n",
       "      <td>From our Legends Collection, the Naga was insp...</td>\n",
       "      <td>jewelery</td>\n",
       "      <td>https://fakestoreapi.com/img/71pWzhdJNwL._AC_U...</td>\n",
       "      <td>4.6</td>\n",
       "      <td>400</td>\n",
       "    </tr>\n",
       "  </tbody>\n",
       "</table>\n",
       "</div>"
      ],
      "text/plain": [
       "   id                                              title   price  \\\n",
       "0   1  Fjallraven - Foldsack No. 1 Backpack, Fits 15 ...  109.95   \n",
       "1   2             Mens Casual Premium Slim Fit T-Shirts    22.30   \n",
       "2   3                                 Mens Cotton Jacket   55.99   \n",
       "3   4                               Mens Casual Slim Fit   15.99   \n",
       "4   5  John Hardy Women's Legends Naga Gold & Silver ...  695.00   \n",
       "\n",
       "                                         description        category  \\\n",
       "0  Your perfect pack for everyday use and walks i...  men's clothing   \n",
       "1  Slim-fitting style, contrast raglan long sleev...  men's clothing   \n",
       "2  great outerwear jackets for Spring/Autumn/Wint...  men's clothing   \n",
       "3  The color could be slightly different between ...  men's clothing   \n",
       "4  From our Legends Collection, the Naga was insp...        jewelery   \n",
       "\n",
       "                                               image  rating_rate  \\\n",
       "0  https://fakestoreapi.com/img/81fPKd-2AYL._AC_S...          3.9   \n",
       "1  https://fakestoreapi.com/img/71-3HjGNDUL._AC_S...          4.1   \n",
       "2  https://fakestoreapi.com/img/71li-ujtlUL._AC_U...          4.7   \n",
       "3  https://fakestoreapi.com/img/71YXzeOuslL._AC_U...          2.1   \n",
       "4  https://fakestoreapi.com/img/71pWzhdJNwL._AC_U...          4.6   \n",
       "\n",
       "   rating_count  \n",
       "0           120  \n",
       "1           259  \n",
       "2           500  \n",
       "3           430  \n",
       "4           400  "
      ]
     },
     "execution_count": 21,
     "metadata": {},
     "output_type": "execute_result"
    }
   ],
   "source": [
    "products_df = pd.read_sql_query(\"SELECT * FROM products\", conn)\n",
    "products_df.head()"
   ]
  },
  {
   "cell_type": "code",
   "execution_count": 22,
   "id": "024005bf",
   "metadata": {},
   "outputs": [
    {
     "data": {
      "text/html": [
       "<div>\n",
       "<style scoped>\n",
       "    .dataframe tbody tr th:only-of-type {\n",
       "        vertical-align: middle;\n",
       "    }\n",
       "\n",
       "    .dataframe tbody tr th {\n",
       "        vertical-align: top;\n",
       "    }\n",
       "\n",
       "    .dataframe thead th {\n",
       "        text-align: right;\n",
       "    }\n",
       "</style>\n",
       "<table border=\"1\" class=\"dataframe\">\n",
       "  <thead>\n",
       "    <tr style=\"text-align: right;\">\n",
       "      <th></th>\n",
       "      <th>cartid</th>\n",
       "      <th>productId</th>\n",
       "      <th>quantity</th>\n",
       "    </tr>\n",
       "  </thead>\n",
       "  <tbody>\n",
       "    <tr>\n",
       "      <th>0</th>\n",
       "      <td>7</td>\n",
       "      <td>18</td>\n",
       "      <td>1</td>\n",
       "    </tr>\n",
       "    <tr>\n",
       "      <th>1</th>\n",
       "      <td>7</td>\n",
       "      <td>18</td>\n",
       "      <td>1</td>\n",
       "    </tr>\n",
       "    <tr>\n",
       "      <th>2</th>\n",
       "      <td>7</td>\n",
       "      <td>18</td>\n",
       "      <td>1</td>\n",
       "    </tr>\n",
       "    <tr>\n",
       "      <th>3</th>\n",
       "      <td>7</td>\n",
       "      <td>18</td>\n",
       "      <td>1</td>\n",
       "    </tr>\n",
       "    <tr>\n",
       "      <th>4</th>\n",
       "      <td>7</td>\n",
       "      <td>18</td>\n",
       "      <td>1</td>\n",
       "    </tr>\n",
       "  </tbody>\n",
       "</table>\n",
       "</div>"
      ],
      "text/plain": [
       "   cartid  productId  quantity\n",
       "0       7         18         1\n",
       "1       7         18         1\n",
       "2       7         18         1\n",
       "3       7         18         1\n",
       "4       7         18         1"
      ]
     },
     "execution_count": 22,
     "metadata": {},
     "output_type": "execute_result"
    }
   ],
   "source": [
    "carts_df = pd.read_sql_query(\"SELECT * FROM carts\", conn)\n",
    "carts_df.head()\n",
    "\n",
    "cart_products_df = pd.read_sql_query(\"SELECT * FROM cart_products\", conn)\n",
    "cart_products_df.head()"
   ]
  },
  {
   "cell_type": "code",
   "execution_count": 20,
   "id": "7479069a",
   "metadata": {},
   "outputs": [
    {
     "data": {
      "text/html": [
       "<div>\n",
       "<style scoped>\n",
       "    .dataframe tbody tr th:only-of-type {\n",
       "        vertical-align: middle;\n",
       "    }\n",
       "\n",
       "    .dataframe tbody tr th {\n",
       "        vertical-align: top;\n",
       "    }\n",
       "\n",
       "    .dataframe thead th {\n",
       "        text-align: right;\n",
       "    }\n",
       "</style>\n",
       "<table border=\"1\" class=\"dataframe\">\n",
       "  <thead>\n",
       "    <tr style=\"text-align: right;\">\n",
       "      <th></th>\n",
       "      <th>geolocation_lat</th>\n",
       "      <th>geolocation_long</th>\n",
       "      <th>city</th>\n",
       "      <th>street</th>\n",
       "      <th>number</th>\n",
       "      <th>zipcode</th>\n",
       "      <th>id</th>\n",
       "      <th>email</th>\n",
       "      <th>username</th>\n",
       "      <th>password</th>\n",
       "      <th>firstname</th>\n",
       "      <th>lastname</th>\n",
       "      <th>phone</th>\n",
       "    </tr>\n",
       "  </thead>\n",
       "  <tbody>\n",
       "    <tr>\n",
       "      <th>0</th>\n",
       "      <td>-37.3159</td>\n",
       "      <td>81.1496</td>\n",
       "      <td>kilcoole</td>\n",
       "      <td>new road</td>\n",
       "      <td>7682</td>\n",
       "      <td>12926-3874</td>\n",
       "      <td>1</td>\n",
       "      <td>john@gmail.com</td>\n",
       "      <td>johnd</td>\n",
       "      <td>m38rmF$</td>\n",
       "      <td>john</td>\n",
       "      <td>doe</td>\n",
       "      <td>1-570-236-7033</td>\n",
       "    </tr>\n",
       "    <tr>\n",
       "      <th>1</th>\n",
       "      <td>-37.3159</td>\n",
       "      <td>81.1496</td>\n",
       "      <td>kilcoole</td>\n",
       "      <td>Lovers Ln</td>\n",
       "      <td>7267</td>\n",
       "      <td>12926-3874</td>\n",
       "      <td>2</td>\n",
       "      <td>morrison@gmail.com</td>\n",
       "      <td>mor_2314</td>\n",
       "      <td>83r5^_</td>\n",
       "      <td>david</td>\n",
       "      <td>morrison</td>\n",
       "      <td>1-570-236-7033</td>\n",
       "    </tr>\n",
       "    <tr>\n",
       "      <th>2</th>\n",
       "      <td>40.3467</td>\n",
       "      <td>-30.1310</td>\n",
       "      <td>Cullman</td>\n",
       "      <td>Frances Ct</td>\n",
       "      <td>86</td>\n",
       "      <td>29567-1452</td>\n",
       "      <td>3</td>\n",
       "      <td>kevin@gmail.com</td>\n",
       "      <td>kevinryan</td>\n",
       "      <td>kev02937@</td>\n",
       "      <td>kevin</td>\n",
       "      <td>ryan</td>\n",
       "      <td>1-567-094-1345</td>\n",
       "    </tr>\n",
       "    <tr>\n",
       "      <th>3</th>\n",
       "      <td>50.3467</td>\n",
       "      <td>-20.1310</td>\n",
       "      <td>San Antonio</td>\n",
       "      <td>Hunters Creek Dr</td>\n",
       "      <td>6454</td>\n",
       "      <td>98234-1734</td>\n",
       "      <td>4</td>\n",
       "      <td>don@gmail.com</td>\n",
       "      <td>donero</td>\n",
       "      <td>ewedon</td>\n",
       "      <td>don</td>\n",
       "      <td>romer</td>\n",
       "      <td>1-765-789-6734</td>\n",
       "    </tr>\n",
       "    <tr>\n",
       "      <th>4</th>\n",
       "      <td>40.3467</td>\n",
       "      <td>-40.1310</td>\n",
       "      <td>san Antonio</td>\n",
       "      <td>adams St</td>\n",
       "      <td>245</td>\n",
       "      <td>80796-1234</td>\n",
       "      <td>5</td>\n",
       "      <td>derek@gmail.com</td>\n",
       "      <td>derek</td>\n",
       "      <td>jklg*_56</td>\n",
       "      <td>derek</td>\n",
       "      <td>powell</td>\n",
       "      <td>1-956-001-1945</td>\n",
       "    </tr>\n",
       "  </tbody>\n",
       "</table>\n",
       "</div>"
      ],
      "text/plain": [
       "  geolocation_lat geolocation_long         city            street  number  \\\n",
       "0        -37.3159          81.1496     kilcoole          new road    7682   \n",
       "1        -37.3159          81.1496     kilcoole         Lovers Ln    7267   \n",
       "2         40.3467         -30.1310      Cullman        Frances Ct      86   \n",
       "3         50.3467         -20.1310  San Antonio  Hunters Creek Dr    6454   \n",
       "4         40.3467         -40.1310  san Antonio          adams St     245   \n",
       "\n",
       "      zipcode  id               email   username   password firstname  \\\n",
       "0  12926-3874   1      john@gmail.com      johnd    m38rmF$      john   \n",
       "1  12926-3874   2  morrison@gmail.com   mor_2314     83r5^_     david   \n",
       "2  29567-1452   3     kevin@gmail.com  kevinryan  kev02937@     kevin   \n",
       "3  98234-1734   4       don@gmail.com     donero     ewedon       don   \n",
       "4  80796-1234   5     derek@gmail.com      derek   jklg*_56     derek   \n",
       "\n",
       "   lastname           phone  \n",
       "0       doe  1-570-236-7033  \n",
       "1  morrison  1-570-236-7033  \n",
       "2      ryan  1-567-094-1345  \n",
       "3     romer  1-765-789-6734  \n",
       "4    powell  1-956-001-1945  "
      ]
     },
     "execution_count": 20,
     "metadata": {},
     "output_type": "execute_result"
    }
   ],
   "source": [
    "users_df = pd.read_sql_query(\"SELECT * FROM users\", conn)\n",
    "users_df.head()"
   ]
  }
 ],
 "metadata": {
  "kernelspec": {
   "display_name": "Python 3 (ipykernel)",
   "language": "python",
   "name": "python3"
  },
  "language_info": {
   "codemirror_mode": {
    "name": "ipython",
    "version": 3
   },
   "file_extension": ".py",
   "mimetype": "text/x-python",
   "name": "python",
   "nbconvert_exporter": "python",
   "pygments_lexer": "ipython3",
   "version": "3.11.5"
  }
 },
 "nbformat": 4,
 "nbformat_minor": 5
}
